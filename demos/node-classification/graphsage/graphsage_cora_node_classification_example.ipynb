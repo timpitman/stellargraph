{
  "nbformat": 4,
  "nbformat_minor": 0,
  "metadata": {
    "kernelspec": {
      "display_name": "Python 3",
      "language": "python",
      "name": "python3"
    },
    "language_info": {
      "codemirror_mode": {
        "name": "ipython",
        "version": 3
      },
      "file_extension": ".py",
      "mimetype": "text/x-python",
      "name": "python",
      "nbconvert_exporter": "python",
      "pygments_lexer": "ipython3",
      "version": "3.6.9"
    },
    "colab": {
      "name": "graphsage-cora-node-classification-example.ipynb",
      "provenance": [],
      "include_colab_link": true
    }
  },
  "cells": [
    {
      "cell_type": "markdown",
      "metadata": {
        "id": "view-in-github",
        "colab_type": "text"
      },
      "source": [
        "<a href=\"https://colab.research.google.com/github/timpitman/stellargraph/blob/feature%2Fcolab-test/demos/node-classification/graphsage/graphsage_cora_node_classification_example.ipynb\" target=\"_parent\"><img src=\"https://colab.research.google.com/assets/colab-badge.svg\" alt=\"Open In Colab\"/></a>"
      ]
    },
    {
      "cell_type": "markdown",
      "metadata": {
        "id": "s-gzsS8olk_Q",
        "colab_type": "text"
      },
      "source": [
        "# Stellargraph example: GraphSAGE on the CORA citation network"
      ]
    },
    {
      "cell_type": "code",
      "metadata": {
        "id": "jCVSfb2rlt2W",
        "colab_type": "code",
        "colab": {}
      },
      "source": [
        "# install StellarGraph if running on Google Colab\n",
        "import sys\n",
        "if 'google.colab' in sys.modules:\n",
        "  !pip install -q stellargraph[demos]"
      ],
      "execution_count": 0,
      "outputs": []
    },
    {
      "cell_type": "markdown",
      "metadata": {
        "id": "Eaw5Wdevlk_T",
        "colab_type": "text"
      },
      "source": [
        "Import NetworkX and stellar:"
      ]
    },
    {
      "cell_type": "code",
      "metadata": {
        "id": "o-i_sfH6lk_V",
        "colab_type": "code",
        "colab": {}
      },
      "source": [
        "import networkx as nx\n",
        "import pandas as pd\n",
        "import os\n",
        "\n",
        "import stellargraph as sg\n",
        "from stellargraph.mapper import GraphSAGENodeGenerator\n",
        "from stellargraph.layer import GraphSAGE\n",
        "\n",
        "from tensorflow.keras import layers, optimizers, losses, metrics, Model\n",
        "from sklearn import preprocessing, feature_extraction, model_selection\n",
        "from stellargraph import datasets\n",
        "from IPython.display import display, HTML"
      ],
      "execution_count": 0,
      "outputs": []
    },
    {
      "cell_type": "markdown",
      "metadata": {
        "id": "1FoK2kaVlk_Z",
        "colab_type": "text"
      },
      "source": [
        "### Loading the CORA network"
      ]
    },
    {
      "cell_type": "code",
      "metadata": {
        "id": "xxPtUj7Hlk_b",
        "colab_type": "code",
        "outputId": "6f42a610-5c55-4b15-e53c-0bc81d5314e2",
        "colab": {
          "base_uri": "https://localhost:8080/",
          "height": 51
        }
      },
      "source": [
        "dataset = datasets.Cora()\n",
        "display(HTML(dataset.description))\n",
        "dataset.download()"
      ],
      "execution_count": 0,
      "outputs": [
        {
          "output_type": "display_data",
          "data": {
            "text/html": [
              "The Cora dataset consists of 2708 scientific publications classified into one of seven classes. The citation network consists of 5429 links. Each publication in the dataset is described by a 0/1-valued word vector indicating the absence/presence of the corresponding word from the dictionary. The dictionary consists of 1433 unique words."
            ],
            "text/plain": [
              "<IPython.core.display.HTML object>"
            ]
          },
          "metadata": {
            "tags": []
          }
        }
      ]
    },
    {
      "cell_type": "markdown",
      "metadata": {
        "id": "nLPI6HJilk_e",
        "colab_type": "text"
      },
      "source": [
        "Load the graph from edgelist (in `cited-paper` <- `citing-paper` order)"
      ]
    },
    {
      "cell_type": "code",
      "metadata": {
        "id": "7c8i0NHKlk_f",
        "colab_type": "code",
        "colab": {}
      },
      "source": [
        "edgelist = pd.read_csv(\n",
        "    os.path.join(dataset.data_directory, \"cora.cites\"),\n",
        "    sep=\"\\t\",\n",
        "    header=None,\n",
        "    names=[\"target\", \"source\"],\n",
        ")"
      ],
      "execution_count": 0,
      "outputs": []
    },
    {
      "cell_type": "markdown",
      "metadata": {
        "id": "yuppQQXclk_i",
        "colab_type": "text"
      },
      "source": [
        "Load the features and subject for the nodes"
      ]
    },
    {
      "cell_type": "code",
      "metadata": {
        "id": "Oo0E8rQdlk_i",
        "colab_type": "code",
        "colab": {}
      },
      "source": [
        "feature_names = [\"w_{}\".format(ii) for ii in range(1433)]\n",
        "column_names = feature_names + [\"subject\"]\n",
        "node_data = pd.read_csv(\n",
        "    os.path.join(dataset.data_directory, \"cora.content\"),\n",
        "    sep=\"\\t\",\n",
        "    header=None,\n",
        "    names=column_names,\n",
        ")"
      ],
      "execution_count": 0,
      "outputs": []
    },
    {
      "cell_type": "markdown",
      "metadata": {
        "id": "4vcb-KT2lk_l",
        "colab_type": "text"
      },
      "source": [
        "We aim to train a graph-ML model that will predict the \"subject\" attribute on the nodes. These subjects are one of 7 categories:"
      ]
    },
    {
      "cell_type": "code",
      "metadata": {
        "id": "xn3qCWYKlk_l",
        "colab_type": "code",
        "colab": {}
      },
      "source": [
        "set(node_data[\"subject\"])"
      ],
      "execution_count": 0,
      "outputs": []
    },
    {
      "cell_type": "markdown",
      "metadata": {
        "id": "0UBx-9dJlk_o",
        "colab_type": "text"
      },
      "source": [
        "### Splitting the data"
      ]
    },
    {
      "cell_type": "markdown",
      "metadata": {
        "id": "cdR923EOlk_p",
        "colab_type": "text"
      },
      "source": [
        "For machine learning we want to take a subset of the nodes for training, and use the rest for testing. We'll use scikit-learn again to do this"
      ]
    },
    {
      "cell_type": "code",
      "metadata": {
        "id": "jPOF9sZclk_q",
        "colab_type": "code",
        "colab": {}
      },
      "source": [
        "train_data, test_data = model_selection.train_test_split(\n",
        "    node_data, train_size=0.1, test_size=None, stratify=node_data[\"subject\"]\n",
        ")"
      ],
      "execution_count": 0,
      "outputs": []
    },
    {
      "cell_type": "markdown",
      "metadata": {
        "id": "kDBQoBrilk_s",
        "colab_type": "text"
      },
      "source": [
        "Note using stratified sampling gives the following counts:"
      ]
    },
    {
      "cell_type": "code",
      "metadata": {
        "id": "I7PSplnJlk_t",
        "colab_type": "code",
        "colab": {}
      },
      "source": [
        "from collections import Counter\n",
        "\n",
        "Counter(train_data[\"subject\"])"
      ],
      "execution_count": 0,
      "outputs": []
    },
    {
      "cell_type": "markdown",
      "metadata": {
        "id": "NcsFOL55lk_v",
        "colab_type": "text"
      },
      "source": [
        "The training set has class imbalance that might need to be compensated, e.g., via using a weighted cross-entropy loss in model training, with class weights inversely proportional to class support. However, we will ignore the class imbalance in this example, for simplicity."
      ]
    },
    {
      "cell_type": "markdown",
      "metadata": {
        "id": "ThUyjRhllk_w",
        "colab_type": "text"
      },
      "source": [
        "### Converting to numeric arrays"
      ]
    },
    {
      "cell_type": "markdown",
      "metadata": {
        "id": "c7YOt9WBlk_w",
        "colab_type": "text"
      },
      "source": [
        "For our categorical target, we will use one-hot vectors that will be fed into a soft-max Keras layer during training. To do this conversion ..."
      ]
    },
    {
      "cell_type": "code",
      "metadata": {
        "id": "7pEdNHNulk_x",
        "colab_type": "code",
        "colab": {}
      },
      "source": [
        "target_encoding = feature_extraction.DictVectorizer(sparse=False)\n",
        "\n",
        "train_targets = target_encoding.fit_transform(train_data[[\"subject\"]].to_dict(\"records\"))\n",
        "test_targets = target_encoding.transform(test_data[[\"subject\"]].to_dict(\"records\"))"
      ],
      "execution_count": 0,
      "outputs": []
    },
    {
      "cell_type": "markdown",
      "metadata": {
        "id": "MIMiXtgalk_0",
        "colab_type": "text"
      },
      "source": [
        "We now do the same for the node attributes we want to use to predict the subject. These are the feature vectors that the Keras model will use as input. The CORA dataset contains attributes 'w_x' that correspond to words found in that publication. If a word occurs more than once in a publication the relevant attribute will be set to one, otherwise it will be zero."
      ]
    },
    {
      "cell_type": "code",
      "metadata": {
        "id": "COy2UbsWlk_0",
        "colab_type": "code",
        "colab": {}
      },
      "source": [
        "node_features = node_data[feature_names]"
      ],
      "execution_count": 0,
      "outputs": []
    },
    {
      "cell_type": "markdown",
      "metadata": {
        "id": "MpOWrmEglk_2",
        "colab_type": "text"
      },
      "source": [
        "## Creating the GraphSAGE model in Keras"
      ]
    },
    {
      "cell_type": "markdown",
      "metadata": {
        "id": "xy-L75erlk_2",
        "colab_type": "text"
      },
      "source": [
        "Now create a StellarGraph object from the NetworkX graph and the node features and targets. It is StellarGraph objects that we use in this library to perform machine learning tasks on."
      ]
    },
    {
      "cell_type": "code",
      "metadata": {
        "id": "6jhkAUoklk_3",
        "colab_type": "code",
        "colab": {}
      },
      "source": [
        "G = sg.StellarGraph(nodes={\"paper\": node_features}, edges={\"cites\": edgelist})"
      ],
      "execution_count": 0,
      "outputs": []
    },
    {
      "cell_type": "code",
      "metadata": {
        "id": "MQh4yTq4lk_5",
        "colab_type": "code",
        "colab": {}
      },
      "source": [
        "print(G.info())"
      ],
      "execution_count": 0,
      "outputs": []
    },
    {
      "cell_type": "markdown",
      "metadata": {
        "id": "bS1DHoYElk_6",
        "colab_type": "text"
      },
      "source": [
        "To feed data from the graph to the Keras model we need a data generator that feeds data from the graph to the model. The generators are specialized to the model and the learning task so we choose the `GraphSAGENodeGenerator` as we are predicting node attributes with a GraphSAGE model.\n",
        "\n",
        "We need two other parameters, the `batch_size` to use for training and the number of nodes to sample at each level of the model. Here we choose a two-level model with 10 nodes sampled in the first layer, and 5 in the second."
      ]
    },
    {
      "cell_type": "code",
      "metadata": {
        "id": "vY6rHTEslk_7",
        "colab_type": "code",
        "colab": {}
      },
      "source": [
        "batch_size = 50\n",
        "num_samples = [10, 5]"
      ],
      "execution_count": 0,
      "outputs": []
    },
    {
      "cell_type": "markdown",
      "metadata": {
        "id": "tIFjosn7lk_8",
        "colab_type": "text"
      },
      "source": [
        "A `GraphSAGENodeGenerator` object is required to send the node features in sampled subgraphs to Keras"
      ]
    },
    {
      "cell_type": "code",
      "metadata": {
        "id": "UCh-Utrrlk_9",
        "colab_type": "code",
        "colab": {}
      },
      "source": [
        "generator = GraphSAGENodeGenerator(G, batch_size, num_samples)"
      ],
      "execution_count": 0,
      "outputs": []
    },
    {
      "cell_type": "markdown",
      "metadata": {
        "id": "zf3P__Tglk_-",
        "colab_type": "text"
      },
      "source": [
        "Using the `generator.flow()` method, we can create iterators over nodes that should be used to train, validate, or evaluate the model. For training we use only the training nodes returned from our splitter and the target values. The `shuffle=True` argument is given to the `flow` method to improve training."
      ]
    },
    {
      "cell_type": "code",
      "metadata": {
        "id": "uJM37fR8lk__",
        "colab_type": "code",
        "colab": {}
      },
      "source": [
        "train_gen = generator.flow(train_data.index, train_targets, shuffle=True)"
      ],
      "execution_count": 0,
      "outputs": []
    },
    {
      "cell_type": "markdown",
      "metadata": {
        "id": "HwG0N4QzllAA",
        "colab_type": "text"
      },
      "source": [
        "Now we can specify our machine learning model, we need a few more parameters for this:\n",
        "\n",
        " * the `layer_sizes` is a list of hidden feature sizes of each layer in the model. In this example we use 32-dimensional hidden node features at each layer.\n",
        " * The `bias` and `dropout` are internal parameters of the model. "
      ]
    },
    {
      "cell_type": "code",
      "metadata": {
        "id": "sAoSfF9ellAB",
        "colab_type": "code",
        "colab": {}
      },
      "source": [
        "graphsage_model = GraphSAGE(\n",
        "    layer_sizes=[32, 32], generator=generator, bias=True, dropout=0.5,\n",
        ")"
      ],
      "execution_count": 0,
      "outputs": []
    },
    {
      "cell_type": "markdown",
      "metadata": {
        "id": "eqif3GxAllAC",
        "colab_type": "text"
      },
      "source": [
        "Now we create a model to predict the 7 categories using Keras softmax layers."
      ]
    },
    {
      "cell_type": "code",
      "metadata": {
        "id": "MHf_B5a7llAD",
        "colab_type": "code",
        "colab": {}
      },
      "source": [
        "x_inp, x_out = graphsage_model.build()\n",
        "prediction = layers.Dense(units=train_targets.shape[1], activation=\"softmax\")(x_out)"
      ],
      "execution_count": 0,
      "outputs": []
    },
    {
      "cell_type": "markdown",
      "metadata": {
        "id": "91As_zzvllAE",
        "colab_type": "text"
      },
      "source": [
        "### Training the model"
      ]
    },
    {
      "cell_type": "markdown",
      "metadata": {
        "id": "3wiuBkV6llAF",
        "colab_type": "text"
      },
      "source": [
        "Now let's create the actual Keras model with the graph inputs `x_inp` provided by the `graph_model` and outputs being the predictions from the softmax layer"
      ]
    },
    {
      "cell_type": "code",
      "metadata": {
        "id": "iB1wyk1lllAF",
        "colab_type": "code",
        "colab": {}
      },
      "source": [
        "model = Model(inputs=x_inp, outputs=prediction)\n",
        "model.compile(\n",
        "    optimizer=optimizers.Adam(lr=0.005),\n",
        "    loss=losses.categorical_crossentropy,\n",
        "    metrics=[\"acc\"],\n",
        ")"
      ],
      "execution_count": 0,
      "outputs": []
    },
    {
      "cell_type": "markdown",
      "metadata": {
        "id": "n9xMaDNhllAH",
        "colab_type": "text"
      },
      "source": [
        "Train the model, keeping track of its loss and accuracy on the training set, and its generalisation performance on the test set (we need to create another generator over the test data for this)"
      ]
    },
    {
      "cell_type": "code",
      "metadata": {
        "id": "CJHSPcDfllAH",
        "colab_type": "code",
        "colab": {}
      },
      "source": [
        "test_gen = generator.flow(test_data.index, test_targets)"
      ],
      "execution_count": 0,
      "outputs": []
    },
    {
      "cell_type": "code",
      "metadata": {
        "id": "6LTlEIopllAI",
        "colab_type": "code",
        "colab": {}
      },
      "source": [
        "history = model.fit_generator(\n",
        "    train_gen, epochs=20, validation_data=test_gen, verbose=2, shuffle=False\n",
        ")"
      ],
      "execution_count": 0,
      "outputs": []
    },
    {
      "cell_type": "code",
      "metadata": {
        "id": "p3keMSVjllAK",
        "colab_type": "code",
        "colab": {}
      },
      "source": [
        "import matplotlib.pyplot as plt\n",
        "%matplotlib inline\n",
        "\n",
        "def plot_history(history):\n",
        "    metrics = sorted(history.history.keys())\n",
        "    metrics = metrics[:len(metrics)//2]\n",
        "    for m in metrics:\n",
        "        # summarize history for metric m\n",
        "        plt.plot(history.history[m])\n",
        "        plt.plot(history.history['val_' + m])\n",
        "        plt.title(m)\n",
        "        plt.ylabel(m)\n",
        "        plt.xlabel('epoch')\n",
        "        plt.legend(['train', 'test'], loc='best')\n",
        "        plt.show()"
      ],
      "execution_count": 0,
      "outputs": []
    },
    {
      "cell_type": "code",
      "metadata": {
        "id": "Je0Z1q2VllAL",
        "colab_type": "code",
        "colab": {}
      },
      "source": [
        "plot_history(history)"
      ],
      "execution_count": 0,
      "outputs": []
    },
    {
      "cell_type": "markdown",
      "metadata": {
        "id": "sUqedS6MllAN",
        "colab_type": "text"
      },
      "source": [
        "Now we have trained the model we can evaluate on the test set."
      ]
    },
    {
      "cell_type": "code",
      "metadata": {
        "id": "6oYQXVqLllAN",
        "colab_type": "code",
        "colab": {}
      },
      "source": [
        "test_metrics = model.evaluate_generator(test_gen)\n",
        "print(\"\\nTest Set Metrics:\")\n",
        "for name, val in zip(model.metrics_names, test_metrics):\n",
        "    print(\"\\t{}: {:0.4f}\".format(name, val))"
      ],
      "execution_count": 0,
      "outputs": []
    },
    {
      "cell_type": "markdown",
      "metadata": {
        "id": "a6nEoJnTllAP",
        "colab_type": "text"
      },
      "source": [
        "### Making predictions with the model"
      ]
    },
    {
      "cell_type": "markdown",
      "metadata": {
        "id": "z7A8w5V6llAP",
        "colab_type": "text"
      },
      "source": [
        "Now let's get the predictions themselves for all nodes using another node iterator:"
      ]
    },
    {
      "cell_type": "code",
      "metadata": {
        "id": "CtsISzxkllAQ",
        "colab_type": "code",
        "colab": {}
      },
      "source": [
        "all_nodes = node_data.index\n",
        "all_mapper = generator.flow(all_nodes)\n",
        "all_predictions = model.predict_generator(all_mapper)"
      ],
      "execution_count": 0,
      "outputs": []
    },
    {
      "cell_type": "markdown",
      "metadata": {
        "id": "YPNVbneQllAR",
        "colab_type": "text"
      },
      "source": [
        "These predictions will be the output of the softmax layer, so to get final categories we'll use the `inverse_transform` method of our target attribute specifcation to turn these values back to the original categories"
      ]
    },
    {
      "cell_type": "code",
      "metadata": {
        "id": "i38fNzTVllAR",
        "colab_type": "code",
        "colab": {}
      },
      "source": [
        "node_predictions = target_encoding.inverse_transform(all_predictions)"
      ],
      "execution_count": 0,
      "outputs": []
    },
    {
      "cell_type": "markdown",
      "metadata": {
        "id": "mI1K58oDllAS",
        "colab_type": "text"
      },
      "source": [
        "Let's have a look at a few:"
      ]
    },
    {
      "cell_type": "code",
      "metadata": {
        "id": "cWptd-h4llAT",
        "colab_type": "code",
        "colab": {}
      },
      "source": [
        "results = pd.DataFrame(node_predictions, index=all_nodes).idxmax(axis=1)\n",
        "df = pd.DataFrame({\"Predicted\": results, \"True\": node_data[\"subject\"]})\n",
        "df.head(10)"
      ],
      "execution_count": 0,
      "outputs": []
    },
    {
      "cell_type": "markdown",
      "metadata": {
        "id": "gpchEXLTllAU",
        "colab_type": "text"
      },
      "source": [
        "Create a NetworkX graph to save it as graphml, e.g. for visualisation in [Gephi](https://gephi.org). This adds the predictions to the graph before saving too."
      ]
    },
    {
      "cell_type": "code",
      "metadata": {
        "id": "o6a8oeSillAU",
        "colab_type": "code",
        "colab": {}
      },
      "source": [
        "Gnx = G.to_networkx(feature_name=None)"
      ],
      "execution_count": 0,
      "outputs": []
    },
    {
      "cell_type": "code",
      "metadata": {
        "id": "unUaVQK3llAV",
        "colab_type": "code",
        "colab": {}
      },
      "source": [
        "for nid, pred, true in zip(df.index, df[\"Predicted\"], df[\"True\"]):\n",
        "    Gnx.nodes[nid][\"subject\"] = true\n",
        "    Gnx.nodes[nid][\"PREDICTED_subject\"] = pred.split(\"=\")[-1]"
      ],
      "execution_count": 0,
      "outputs": []
    },
    {
      "cell_type": "markdown",
      "metadata": {
        "id": "ZOVBzgiOllAW",
        "colab_type": "text"
      },
      "source": [
        "Also add isTrain and isCorrect node attributes:"
      ]
    },
    {
      "cell_type": "code",
      "metadata": {
        "id": "ZQ0hhvYGllAX",
        "colab_type": "code",
        "colab": {}
      },
      "source": [
        "for nid in train_data.index:\n",
        "    Gnx.nodes[nid][\"isTrain\"] = True\n",
        "\n",
        "for nid in test_data.index:\n",
        "    Gnx.nodes[nid][\"isTrain\"] = False"
      ],
      "execution_count": 0,
      "outputs": []
    },
    {
      "cell_type": "code",
      "metadata": {
        "id": "4Q468UiNllAY",
        "colab_type": "code",
        "colab": {}
      },
      "source": [
        "for nid in Gnx.nodes():\n",
        "    Gnx.nodes[nid][\"isCorrect\"] = (\n",
        "        Gnx.nodes[nid][\"subject\"] == Gnx.nodes[nid][\"PREDICTED_subject\"]\n",
        "    )"
      ],
      "execution_count": 0,
      "outputs": []
    },
    {
      "cell_type": "markdown",
      "metadata": {
        "id": "tB4p2U6DllAZ",
        "colab_type": "text"
      },
      "source": [
        "Save in GraphML format"
      ]
    },
    {
      "cell_type": "code",
      "metadata": {
        "id": "CKeSUxRPllAZ",
        "colab_type": "code",
        "colab": {}
      },
      "source": [
        "pred_fname = \"pred_n={}.graphml\".format(num_samples)\n",
        "nx.write_graphml(Gnx, os.path.join(dataset.data_directory, pred_fname))"
      ],
      "execution_count": 0,
      "outputs": []
    },
    {
      "cell_type": "markdown",
      "metadata": {
        "id": "vdy1h4vpllAa",
        "colab_type": "text"
      },
      "source": [
        "## Node embeddings\n",
        "Evaluate node embeddings as activations of the output of graphsage layer stack, and visualise them, coloring nodes by their subject label.\n",
        "\n",
        "The GraphSAGE embeddings are the output of the GraphSAGE layers, namely the `x_out` variable. Let's create a new model with the same inputs as we used previously `x_inp` but now the output is the embeddings rather than the predicted class. Additionally note that the weights trained previously are kept in the new model."
      ]
    },
    {
      "cell_type": "code",
      "metadata": {
        "id": "IrjcagxOllAa",
        "colab_type": "code",
        "colab": {}
      },
      "source": [
        "embedding_model = Model(inputs=x_inp, outputs=x_out)"
      ],
      "execution_count": 0,
      "outputs": []
    },
    {
      "cell_type": "code",
      "metadata": {
        "id": "s-a4b1aGllAb",
        "colab_type": "code",
        "colab": {}
      },
      "source": [
        "emb = embedding_model.predict_generator(all_mapper)\n",
        "emb.shape"
      ],
      "execution_count": 0,
      "outputs": []
    },
    {
      "cell_type": "markdown",
      "metadata": {
        "id": "ht8NT3wLllAd",
        "colab_type": "text"
      },
      "source": [
        "Project the embeddings to 2d using either TSNE or PCA transform, and visualise, coloring nodes by their subject label"
      ]
    },
    {
      "cell_type": "code",
      "metadata": {
        "id": "L9_BjfilllAd",
        "colab_type": "code",
        "colab": {}
      },
      "source": [
        "from sklearn.decomposition import PCA\n",
        "from sklearn.manifold import TSNE\n",
        "import pandas as pd\n",
        "import numpy as np"
      ],
      "execution_count": 0,
      "outputs": []
    },
    {
      "cell_type": "code",
      "metadata": {
        "id": "dnUS5zZGllAe",
        "colab_type": "code",
        "colab": {}
      },
      "source": [
        "X = emb\n",
        "y = np.argmax(\n",
        "    target_encoding.transform(node_data[[\"subject\"]].to_dict(\"records\")), axis=1\n",
        ")"
      ],
      "execution_count": 0,
      "outputs": []
    },
    {
      "cell_type": "code",
      "metadata": {
        "id": "cXq1Gs6ollAf",
        "colab_type": "code",
        "colab": {}
      },
      "source": [
        "if X.shape[1] > 2:\n",
        "    transform = TSNE  # PCA\n",
        "\n",
        "    trans = transform(n_components=2)\n",
        "    emb_transformed = pd.DataFrame(trans.fit_transform(X), index=node_data.index)\n",
        "    emb_transformed[\"label\"] = y\n",
        "else:\n",
        "    emb_transformed = pd.DataFrame(X, index=node_data.index)\n",
        "    emb_transformed = emb_transformed.rename(columns={\"0\": 0, \"1\": 1})\n",
        "    emb_transformed[\"label\"] = y"
      ],
      "execution_count": 0,
      "outputs": []
    },
    {
      "cell_type": "code",
      "metadata": {
        "id": "GcqRIcdJllAg",
        "colab_type": "code",
        "colab": {}
      },
      "source": [
        "alpha = 0.7\n",
        "\n",
        "fig, ax = plt.subplots(figsize=(7, 7))\n",
        "ax.scatter(\n",
        "    emb_transformed[0],\n",
        "    emb_transformed[1],\n",
        "    c=emb_transformed[\"label\"].astype(\"category\"),\n",
        "    cmap=\"jet\",\n",
        "    alpha=alpha,\n",
        ")\n",
        "ax.set(aspect=\"equal\", xlabel=\"$X_1$\", ylabel=\"$X_2$\")\n",
        "plt.title(\n",
        "    \"{} visualization of GraphSAGE embeddings for cora dataset\".format(transform.__name__)\n",
        ")\n",
        "plt.show()"
      ],
      "execution_count": 0,
      "outputs": []
    }
  ]
}